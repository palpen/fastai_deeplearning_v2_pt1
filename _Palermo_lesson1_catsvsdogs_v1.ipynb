{
 "cells": [
  {
   "cell_type": "markdown",
   "metadata": {},
   "source": [
    "# Cats vs Dog Replication, Version 1\n",
    "\n",
    "This notebook implements the method introduced in the first 3 lessons in part 1 of the FastAI deep learning course to build a pretty good image classification model for cats and dogs classification using the `fastai` library. The model scored a log loss of 0.05664, which is good for around top 8% at the time of writing.\n",
    "\n",
    "Dataset is from an old Kaggle competition called Dogs vs. Cats Redux: Kernels Edition. It can be downloaded by executing `kaggle competitions download -c dogs-vs-cats-redux-kernels-edition` using the official Kaggle CLI.\n",
    "\n",
    "How to organize training data so that all cat and dog pictures are in their individual folders within the `train` folder.\n",
    "\n",
    "## To Do:\n",
    "1. Finish 8th step and train model on full training dataset\n",
    "2. Submit the quick model without using any of the advanced techniques to see how it compares with the better model"
   ]
  },
  {
   "cell_type": "code",
   "execution_count": 2,
   "metadata": {},
   "outputs": [],
   "source": [
    "import sys; sys.path.append('../fastai')"
   ]
  },
  {
   "cell_type": "code",
   "execution_count": 3,
   "metadata": {},
   "outputs": [],
   "source": [
    "from fastai.imports import *\n",
    "from fastai.transforms import *\n",
    "from fastai.conv_learner import *\n",
    "from fastai.model import *\n",
    "from fastai.dataset import *\n",
    "from fastai.sgdr import *\n",
    "from fastai.plots import *"
   ]
  },
  {
   "cell_type": "code",
   "execution_count": 53,
   "metadata": {},
   "outputs": [],
   "source": [
    "PATH = \"/home/pspenano/Dropbox/data_science/fastai_deeplearning/pt1/data/dogs-vs-cats-redux-kernels-edition/\"\n",
    "\n",
    "# model parameters\n",
    "sz = 224\n",
    "arch = resnet34"
   ]
  },
  {
   "cell_type": "code",
   "execution_count": 10,
   "metadata": {},
   "outputs": [
    {
     "name": "stdout",
     "output_type": "stream",
     "text": [
      "True\n",
      "True\n"
     ]
    }
   ],
   "source": [
    "print(torch.cuda.is_available())\n",
    "print(torch.backends.cudnn.enabled)"
   ]
  },
  {
   "cell_type": "code",
   "execution_count": null,
   "metadata": {},
   "outputs": [],
   "source": [
    "os.listdir(PATH+'train/dog')"
   ]
  },
  {
   "cell_type": "markdown",
   "metadata": {},
   "source": [
    "Cell directly below prepares the data in the following way:\n",
    "\n",
    "Input: train.zip (downloaded from Kaggle)\n",
    "\n",
    "Output: folders with directory structure\n",
    "\n",
    "```\n",
    "    - train\n",
    "        - cat\n",
    "        - dog\n",
    "    - valid\n",
    "        - cat\n",
    "        - dog\n",
    "```\n",
    "\n",
    "`valid` contains 10% of the data from the original `train` folder."
   ]
  },
  {
   "cell_type": "code",
   "execution_count": 96,
   "metadata": {},
   "outputs": [
    {
     "name": "stdout",
     "output_type": "stream",
     "text": [
      "Total number of images in training data: 25000\n",
      "Number cats images: 12500\n",
      "Number dogs images: 12500\n",
      "['dog.953.jpg', 'dog.5279.jpg', 'dog.2387.jpg', 'dog.6469.jpg', 'dog.1400.jpg', 'dog.732.jpg', 'dog.11706.jpg', 'dog.9682.jpg', 'dog.6077.jpg', 'dog.11954.jpg']\n",
      "Count of validation set for dogs class: 1250\n",
      "Count of validation set for cats class: 1250\n"
     ]
    }
   ],
   "source": [
    "import os, random, shutil\n",
    "\n",
    "# delete training folder if it already exist and unzip orig. train data\n",
    "!cd {PATH};\n",
    "!rm -rf valid/;\n",
    "!rm -rf train/;\n",
    "!unzip -q train.zip;\n",
    "\n",
    "print(\"Total number of images in training data:\", len(os.listdir('train')))\n",
    "\n",
    "# create subdirectory that will contain classes\n",
    "!mkdir \"{PATH}train/dog\";\n",
    "!mkdir \"{PATH}train/cat\";\n",
    "\n",
    "# move images to class folder\n",
    "!mv {PATH}train/dog*jpg \"{PATH}train/dog/\";\n",
    "!mv {PATH}train/cat*jpg \"{PATH}train/cat/\";\n",
    "\n",
    "cat_train = PATH+'train/cat'\n",
    "dog_train = PATH+'train/dog'\n",
    "\n",
    "# get number of examples for each class\n",
    "num_cats_img = len(os.listdir(cat_train))\n",
    "print(\"Number cats images:\", num_cats_img)\n",
    "\n",
    "num_dogs_img = len(os.listdir(dog_train))\n",
    "print(\"Number dogs images:\", num_dogs_img)\n",
    "\n",
    "# get 10% sample size for validation set\n",
    "valid_num = int(0.10 * num_cats_img)\n",
    "\n",
    "# get a random sample for cats and dogs\n",
    "valid_set_cat = random.sample(os.listdir(cat_train), valid_num)\n",
    "valid_set_dog = random.sample(os.listdir(dog_train), valid_num)\n",
    "\n",
    "# create validation folder structure\n",
    "mkdir_valid(PATH+\"valid\")\n",
    "mkdir_valid(PATH+\"valid/cat\")\n",
    "mkdir_valid(PATH+\"valid/dog\")\n",
    "\n",
    "\n",
    "# move randomly selected images to validation folder\n",
    "cat_valid = PATH+'valid/cat'\n",
    "dog_valid = PATH+'valid/dog'\n",
    "\n",
    "for df,cf in zip(valid_set_dog, valid_set_cat):\n",
    "    shutil.move(dog_train+'/'+df, dog_valid)\n",
    "    shutil.move(cat_train+'/'+cf, cat_valid)\n",
    "\n",
    "print(os.listdir(PATH+\"valid/dog\")[0:10])\n",
    "print(\"Count of validation set for dogs class:\", len(os.listdir(dog_valid)))\n",
    "print(\"Count of validation set for cats class:\", len(os.listdir(cat_valid)))\n"
   ]
  },
  {
   "cell_type": "markdown",
   "metadata": {},
   "source": [
    "### First quick model\n",
    "Here is a very basic convolutional neural network model trained for 3 epochs without any application of the other techniques to improve performance.\n",
    "\n",
    "#### To Do:\n",
    "* Submit the output of this model to Kaggle as a baseline"
   ]
  },
  {
   "cell_type": "code",
   "execution_count": 98,
   "metadata": {},
   "outputs": [
    {
     "name": "stdout",
     "output_type": "stream",
     "text": [
      "\n",
      "100%|██████████| 352/352 [00:53<00:00,  6.60it/s]\n",
      "100%|██████████| 40/40 [00:05<00:00,  7.29it/s]\n"
     ]
    },
    {
     "data": {
      "application/vnd.jupyter.widget-view+json": {
       "model_id": "5014a69cddfb4278bd984f67a00de34e",
       "version_major": 2,
       "version_minor": 0
      },
      "text/html": [
       "<p>Failed to display Jupyter Widget of type <code>HBox</code>.</p>\n",
       "<p>\n",
       "  If you're reading this message in the Jupyter Notebook or JupyterLab Notebook, it may mean\n",
       "  that the widgets JavaScript is still loading. If this message persists, it\n",
       "  likely means that the widgets JavaScript library is either not installed or\n",
       "  not enabled. See the <a href=\"https://ipywidgets.readthedocs.io/en/stable/user_install.html\">Jupyter\n",
       "  Widgets Documentation</a> for setup instructions.\n",
       "</p>\n",
       "<p>\n",
       "  If you're reading this message in another frontend (for example, a static\n",
       "  rendering on GitHub or <a href=\"https://nbviewer.jupyter.org/\">NBViewer</a>),\n",
       "  it may mean that your frontend doesn't currently support widgets.\n",
       "</p>\n"
      ],
      "text/plain": [
       "HBox(children=(IntProgress(value=0, description='Epoch', max=3), HTML(value='')))"
      ]
     },
     "metadata": {},
     "output_type": "display_data"
    },
    {
     "name": "stdout",
     "output_type": "stream",
     "text": [
      "epoch      trn_loss   val_loss   accuracy   \n",
      "    0      0.049149   0.023227   0.992188  \n",
      "    1      0.042476   0.024563   0.991406  \n",
      "    2      0.037937   0.022626   0.991797  \n",
      "\n"
     ]
    }
   ],
   "source": [
    "tfms = tfms_from_model(arch,sz)\n",
    "data = ImageClassifierData.from_paths(PATH, tfms=tfms)\n",
    "learn = ConvLearner.pretrained(arch, data, precompute=True)\n",
    "learn.fit(0.01, 3)\n",
    "learn.save('224_quickmodel')"
   ]
  },
  {
   "cell_type": "markdown",
   "metadata": {},
   "source": [
    "### End-to-End Workflow for Training a World Class Model"
   ]
  },
  {
   "cell_type": "markdown",
   "metadata": {},
   "source": [
    "#### 1. Enable data augmentation and precompute=True\n",
    "Depending on the images we are working with, set `aug_tfms` to either transforms_side_on or transform_top_down (for satellite images). For ImageNet like images, we use transforms_side_on."
   ]
  },
  {
   "cell_type": "code",
   "execution_count": 110,
   "metadata": {},
   "outputs": [],
   "source": [
    "tfms = tfms_from_model(arch, sz, aug_tfms=transforms_side_on, max_zoom=1.1)\n",
    "data = ImageClassifierData.from_paths(PATH, tfms=tfms)"
   ]
  },
  {
   "cell_type": "markdown",
   "metadata": {},
   "source": [
    "#### 2. Find learning rate to be used to train dense layer of model\n",
    "\n",
    "First, find a learning rate using the learning rate finder method. To do this, we must define a new, untrained, mode. We are finding the learning rate only from the unfrozen dense layer (the last layer in the convolutional neural net) that we want to customize for our image data. The Python methods used here are:\n",
    "    * lr_find()\n",
    "    * plot_lr() (from sched)\n",
    "    * plot() (also from sched "
   ]
  },
  {
   "cell_type": "code",
   "execution_count": 111,
   "metadata": {},
   "outputs": [
    {
     "data": {
      "application/vnd.jupyter.widget-view+json": {
       "model_id": "8a78f7675dad44fb8d804f9b475265a1",
       "version_major": 2,
       "version_minor": 0
      },
      "text/html": [
       "<p>Failed to display Jupyter Widget of type <code>HBox</code>.</p>\n",
       "<p>\n",
       "  If you're reading this message in the Jupyter Notebook or JupyterLab Notebook, it may mean\n",
       "  that the widgets JavaScript is still loading. If this message persists, it\n",
       "  likely means that the widgets JavaScript library is either not installed or\n",
       "  not enabled. See the <a href=\"https://ipywidgets.readthedocs.io/en/stable/user_install.html\">Jupyter\n",
       "  Widgets Documentation</a> for setup instructions.\n",
       "</p>\n",
       "<p>\n",
       "  If you're reading this message in another frontend (for example, a static\n",
       "  rendering on GitHub or <a href=\"https://nbviewer.jupyter.org/\">NBViewer</a>),\n",
       "  it may mean that your frontend doesn't currently support widgets.\n",
       "</p>\n"
      ],
      "text/plain": [
       "HBox(children=(IntProgress(value=0, description='Epoch', max=1), HTML(value='')))"
      ]
     },
     "metadata": {},
     "output_type": "display_data"
    },
    {
     "name": "stdout",
     "output_type": "stream",
     "text": [
      " 75%|███████▌  | 264/352 [00:04<00:01, 54.66it/s, loss=0.405]\n"
     ]
    }
   ],
   "source": [
    "find_lr_learner = ConvLearner.pretrained(arch, data, precompute=True)\n",
    "lrf = find_lr_learner.lr_find()"
   ]
  },
  {
   "cell_type": "code",
   "execution_count": 112,
   "metadata": {},
   "outputs": [
    {
     "data": {
      "image/png": "[encoded data removed]",
      "text/plain": [
       "<Figure size 432x288 with 1 Axes>"
      ]
     },
     "metadata": {},
     "output_type": "display_data"
    }
   ],
   "source": [
    "find_lr_learner.sched.plot_lr()"
   ]
  },
  {
   "cell_type": "code",
   "execution_count": 113,
   "metadata": {},
   "outputs": [
    {
     "data": {
      "image/png": "[encoded data removed]",
      "text/plain": [
       "<Figure size 432x288 with 1 Axes>"
      ]
     },
     "metadata": {},
     "output_type": "display_data"
    }
   ],
   "source": [
    "find_lr_learner.sched.plot()"
   ]
  },
  {
   "cell_type": "markdown",
   "metadata": {},
   "source": [
    "Based on the analysis of the loss function against various learning rates, the optimal learning rate is the value just before the learning where loss is at the minimum. We can pick 1e-2."
   ]
  },
  {
   "cell_type": "markdown",
   "metadata": {},
   "source": [
    "#### 3. Train last layer from precomputed activations for 1 to 2 epochs\n",
    "We will use the learning rate we found above to train the last layer of the model. We initialize a new model by using the ConvLearner class (and bind it to the learn variable) and pass the architecture and data we have defined and initialized for it. We will not use the model we used to find our learning rate."
   ]
  },
  {
   "cell_type": "code",
   "execution_count": 114,
   "metadata": {},
   "outputs": [],
   "source": [
    "learn = ConvLearner.pretrained(arch, data, precompute=True)"
   ]
  },
  {
   "cell_type": "code",
   "execution_count": 115,
   "metadata": {},
   "outputs": [
    {
     "data": {
      "application/vnd.jupyter.widget-view+json": {
       "model_id": "960f0e1c88f24055a4f8a76c161ce2d9",
       "version_major": 2,
       "version_minor": 0
      },
      "text/html": [
       "<p>Failed to display Jupyter Widget of type <code>HBox</code>.</p>\n",
       "<p>\n",
       "  If you're reading this message in the Jupyter Notebook or JupyterLab Notebook, it may mean\n",
       "  that the widgets JavaScript is still loading. If this message persists, it\n",
       "  likely means that the widgets JavaScript library is either not installed or\n",
       "  not enabled. See the <a href=\"https://ipywidgets.readthedocs.io/en/stable/user_install.html\">Jupyter\n",
       "  Widgets Documentation</a> for setup instructions.\n",
       "</p>\n",
       "<p>\n",
       "  If you're reading this message in another frontend (for example, a static\n",
       "  rendering on GitHub or <a href=\"https://nbviewer.jupyter.org/\">NBViewer</a>),\n",
       "  it may mean that your frontend doesn't currently support widgets.\n",
       "</p>\n"
      ],
      "text/plain": [
       "HBox(children=(IntProgress(value=0, description='Epoch', max=2), HTML(value='')))"
      ]
     },
     "metadata": {},
     "output_type": "display_data"
    },
    {
     "name": "stdout",
     "output_type": "stream",
     "text": [
      "epoch      trn_loss   val_loss   accuracy   \n",
      "    0      0.04071    0.026976   0.991016  \n",
      "    1      0.043275   0.025328   0.989844  \n",
      "\n"
     ]
    },
    {
     "data": {
      "text/plain": [
       "[0.025327588, 0.98984375]"
      ]
     },
     "execution_count": 115,
     "metadata": {},
     "output_type": "execute_result"
    }
   ],
   "source": [
    "learn.fit(1e-2, 2)"
   ]
  },
  {
   "cell_type": "markdown",
   "metadata": {},
   "source": [
    "#### 4. Train last layer with data augmentation with cycle_len=1 \n",
    "\n",
    "Here we train just the last layer. The reason we do this first before training the entire network in step 5 is because the final layer only have random values for paramters. We wouldn't want to train the entire network first while having an untrained final layer.\n",
    "\n",
    "__Questions !!!__\n",
    "\n",
    "1. What is cycle_len=1? Why do we use it?\n",
    "2. Why not do this step at step 3? why do we first do an initial training with non-augmented data?\n",
    "3. Why not just jump straight to unfreezing the entire model and training it using differential learning rates (i.e. jump straight to step 5)?\n",
    "\n",
    "Note that you don't need to run this again because you can load the model that you trained earlier. Use `learn.load(MODELNAME)`."
   ]
  },
  {
   "cell_type": "code",
   "execution_count": 116,
   "metadata": {},
   "outputs": [
    {
     "data": {
      "application/vnd.jupyter.widget-view+json": {
       "model_id": "ae89a72e59574c43b324bbbfb903366a",
       "version_major": 2,
       "version_minor": 0
      },
      "text/html": [
       "<p>Failed to display Jupyter Widget of type <code>HBox</code>.</p>\n",
       "<p>\n",
       "  If you're reading this message in the Jupyter Notebook or JupyterLab Notebook, it may mean\n",
       "  that the widgets JavaScript is still loading. If this message persists, it\n",
       "  likely means that the widgets JavaScript library is either not installed or\n",
       "  not enabled. See the <a href=\"https://ipywidgets.readthedocs.io/en/stable/user_install.html\">Jupyter\n",
       "  Widgets Documentation</a> for setup instructions.\n",
       "</p>\n",
       "<p>\n",
       "  If you're reading this message in another frontend (for example, a static\n",
       "  rendering on GitHub or <a href=\"https://nbviewer.jupyter.org/\">NBViewer</a>),\n",
       "  it may mean that your frontend doesn't currently support widgets.\n",
       "</p>\n"
      ],
      "text/plain": [
       "HBox(children=(IntProgress(value=0, description='Epoch', max=3), HTML(value='')))"
      ]
     },
     "metadata": {},
     "output_type": "display_data"
    },
    {
     "name": "stdout",
     "output_type": "stream",
     "text": [
      "epoch      trn_loss   val_loss   accuracy   \n",
      "    0      0.049117   0.022505   0.992578  \n",
      "    1      0.03515    0.02173    0.991406  \n",
      "    2      0.032252   0.022384   0.990234  \n",
      "\n"
     ]
    }
   ],
   "source": [
    "learn.precompute = False\n",
    "learn.fit(1e-2, 3, cycle_len=1)\n",
    "\n",
    "# Save model so we don't have to train it from scratch next time\n",
    "learn.save('224_lastlayer_catsVDog_replication_V1')\n",
    "learn.load('224_lastlayer_catsVDog_replication_V1')"
   ]
  },
  {
   "cell_type": "markdown",
   "metadata": {},
   "source": [
    "#### 5. Unfreeze all layers\n",
    "Unfreeze early, middle and later layers. We are at this point going to train all the layers starting from their pretrained parameter values."
   ]
  },
  {
   "cell_type": "code",
   "execution_count": 117,
   "metadata": {},
   "outputs": [],
   "source": [
    "learn.unfreeze()"
   ]
  },
  {
   "cell_type": "markdown",
   "metadata": {},
   "source": [
    "#### 6. Set earlier layers to 3x-10x lower learning rate than next higher layer\n",
    "In training all the layers, we only want to only want maximum customization of the parameters of the later layers. For the early layers, these have been trained to detect very general attributes that is also applicable to our dataset. Thus, we don't want to train these early layers too much and so we set the learning rate for these early layer to be 10 times smaller than the last layer."
   ]
  },
  {
   "cell_type": "code",
   "execution_count": 118,
   "metadata": {},
   "outputs": [
    {
     "data": {
      "application/vnd.jupyter.widget-view+json": {
       "model_id": "2d651ce0dc1940539c1fef2a190e1453",
       "version_major": 2,
       "version_minor": 0
      },
      "text/html": [
       "<p>Failed to display Jupyter Widget of type <code>HBox</code>.</p>\n",
       "<p>\n",
       "  If you're reading this message in the Jupyter Notebook or JupyterLab Notebook, it may mean\n",
       "  that the widgets JavaScript is still loading. If this message persists, it\n",
       "  likely means that the widgets JavaScript library is either not installed or\n",
       "  not enabled. See the <a href=\"https://ipywidgets.readthedocs.io/en/stable/user_install.html\">Jupyter\n",
       "  Widgets Documentation</a> for setup instructions.\n",
       "</p>\n",
       "<p>\n",
       "  If you're reading this message in another frontend (for example, a static\n",
       "  rendering on GitHub or <a href=\"https://nbviewer.jupyter.org/\">NBViewer</a>),\n",
       "  it may mean that your frontend doesn't currently support widgets.\n",
       "</p>\n"
      ],
      "text/plain": [
       "HBox(children=(IntProgress(value=0, description='Epoch', max=7), HTML(value='')))"
      ]
     },
     "metadata": {},
     "output_type": "display_data"
    },
    {
     "name": "stdout",
     "output_type": "stream",
     "text": [
      "epoch      trn_loss   val_loss   accuracy   \n",
      "    0      0.050769   0.024503   0.991406  \n",
      "    1      0.03659    0.018283   0.993359  \n",
      "    2      0.031703   0.020365   0.992969  \n",
      "    3      0.028645   0.017113   0.994922  \n",
      "    4      0.025561   0.016879   0.994922  \n",
      "    5      0.0215     0.017832   0.99375   \n",
      "    6      0.020041   0.016173   0.994141  \n",
      "\n"
     ]
    }
   ],
   "source": [
    "lr=np.array([1e-4,1e-3,1e-2])\n",
    "learn.fit(lr, 3, cycle_len=1, cycle_mult=2)\n",
    "learn.save('224_trainedAll_catsVDog_replication_V1')\n",
    "learn.load('224_trainedAll_catsVDog_replication_V1')"
   ]
  },
  {
   "cell_type": "markdown",
   "metadata": {},
   "source": [
    "#### 7. Use learning rate finder again\n",
    "Before training the full network again, we need to find a new learning rate. The current learning rate may no longer be optimal given that it was found before we trained the entire unfrozen network. It may no longer be the optimal learning rate for the current model that has been trainined using differential learning rates."
   ]
  },
  {
   "cell_type": "code",
   "execution_count": 12,
   "metadata": {},
   "outputs": [],
   "source": []
  },
  {
   "cell_type": "markdown",
   "metadata": {},
   "source": [
    "#### 8. Train full network with cycle_mult=2 until overfitting\n"
   ]
  },
  {
   "cell_type": "code",
   "execution_count": 122,
   "metadata": {},
   "outputs": [],
   "source": [
    "# unzip training data again to get full dataset\n",
    "!rm -rf train_full\n",
    "\n",
    "!unzip -q train.zip -d train_full;\n",
    "\n",
    "!mkdir \"{PATH}train_full/train/dog\";\n",
    "!mkdir \"{PATH}train_full/train/cat\";\n",
    "\n",
    "# move images to class folder\n",
    "!mv {PATH}train_full/train/dog*jpg \"{PATH}train_full/train/dog/\";\n",
    "!mv {PATH}train_full/train/cat*jpg \"{PATH}train_full/train/cat/\";\n",
    "\n",
    "PATH_FULL = \"/home/pspenano/Dropbox/data_science/fastai_deeplearning/pt1/data/dogs-vs-cats-redux-kernels-edition/train_full\""
   ]
  },
  {
   "cell_type": "markdown",
   "metadata": {},
   "source": [
    "### Load Previously Trained Model\n",
    "To load model starting from step 6 (and avoid having to retrain the entire network), run the following code"
   ]
  },
  {
   "cell_type": "code",
   "execution_count": 127,
   "metadata": {},
   "outputs": [
    {
     "data": {
      "text/plain": [
       "['test',\n",
       " 'models',\n",
       " 'train',\n",
       " 'train.zip',\n",
       " 'sample_submission.csv',\n",
       " 'test.zip',\n",
       " 'tmp',\n",
       " 'train_full',\n",
       " 'valid']"
      ]
     },
     "execution_count": 127,
     "metadata": {},
     "output_type": "execute_result"
    }
   ],
   "source": [
    "os.listdir(PATH)"
   ]
  },
  {
   "cell_type": "code",
   "execution_count": 131,
   "metadata": {},
   "outputs": [],
   "source": [
    "tfms = tfms_from_model(arch, sz, aug_tfms=transforms_side_on, max_zoom=1.1)\n",
    "data = ImageClassifierData.from_paths(PATH, tfms=tfms, test_name='test')\n",
    "\n",
    "# Initialize learner with precompute=False to match model that\n",
    "# we have trained using differential learning rates (in step 6)\n",
    "learn = ConvLearner.pretrained(arch, data, precompute=False)\n",
    "learn.load('224_trainedAll_catsVDog_replication_V1')"
   ]
  },
  {
   "cell_type": "markdown",
   "metadata": {},
   "source": [
    "### Create Kaggle Submission\n",
    "\n",
    "To make submission after creating submission file, execute \n",
    "\n",
    "`kaggle competitions submit -c dogs-vs-cats-redux-kernels-edition -f submission_2018-03-10.csv -m \"first submission: resnet34 fastai lesson 2 and 3 techniques\"`\n",
    "\n",
    "Evaluate model using test set and get predicted probabilities for each image."
   ]
  },
  {
   "cell_type": "code",
   "execution_count": null,
   "metadata": {},
   "outputs": [],
   "source": [
    "# get log of prediction using test-time augmentation\n",
    "log_preds,y = learn.TTA(is_test=True)\n",
    "\n",
    "# convert prediction to probability\n",
    "probs = np.mean(np.exp(log_preds),0)\n",
    "\n",
    "# get prediction (if prob > 0.5, then dog)\n",
    "preds = np.argmax(probs, axis=1)\n",
    "\n",
    "# get second column (which corresponds to probability that it is a dog)\n",
    "probs = probs[:,1] "
   ]
  },
  {
   "cell_type": "markdown",
   "metadata": {},
   "source": [
    "We retrieve the labels of the images in the test set using `data.test_ds.fnames` and create a dataframe containing the predicted probability that each image in the test set is a dog."
   ]
  },
  {
   "cell_type": "code",
   "execution_count": 158,
   "metadata": {},
   "outputs": [
    {
     "data": {
      "text/html": [
       "<div>\n",
       "<style scoped>\n",
       "    .dataframe tbody tr th:only-of-type {\n",
       "        vertical-align: middle;\n",
       "    }\n",
       "\n",
       "    .dataframe tbody tr th {\n",
       "        vertical-align: top;\n",
       "    }\n",
       "\n",
       "    .dataframe thead th {\n",
       "        text-align: right;\n",
       "    }\n",
       "</style>\n",
       "<table border=\"1\" class=\"dataframe\">\n",
       "  <thead>\n",
       "    <tr style=\"text-align: right;\">\n",
       "      <th></th>\n",
       "      <th>id</th>\n",
       "      <th>label</th>\n",
       "    </tr>\n",
       "  </thead>\n",
       "  <tbody>\n",
       "    <tr>\n",
       "      <th>0</th>\n",
       "      <td>5880</td>\n",
       "      <td>0.999985</td>\n",
       "    </tr>\n",
       "    <tr>\n",
       "      <th>1</th>\n",
       "      <td>1218</td>\n",
       "      <td>0.000106</td>\n",
       "    </tr>\n",
       "    <tr>\n",
       "      <th>2</th>\n",
       "      <td>641</td>\n",
       "      <td>0.999965</td>\n",
       "    </tr>\n",
       "    <tr>\n",
       "      <th>3</th>\n",
       "      <td>12255</td>\n",
       "      <td>0.016852</td>\n",
       "    </tr>\n",
       "    <tr>\n",
       "      <th>4</th>\n",
       "      <td>10844</td>\n",
       "      <td>0.999989</td>\n",
       "    </tr>\n",
       "  </tbody>\n",
       "</table>\n",
       "</div>"
      ],
      "text/plain": [
       "      id     label\n",
       "0   5880  0.999985\n",
       "1   1218  0.000106\n",
       "2    641  0.999965\n",
       "3  12255  0.016852\n",
       "4  10844  0.999989"
      ]
     },
     "execution_count": 158,
     "metadata": {},
     "output_type": "execute_result"
    }
   ],
   "source": [
    "ds = pd.DataFrame(probs)\n",
    "\n",
    "# set column name of predictive probabilities\n",
    "ds.columns = ['label']\n",
    "\n",
    "# remove folder name and img suffix\n",
    "ids = [x[5:-4] for x in data.test_ds.fnames]\n",
    "\n",
    "# insert in first column with name id\n",
    "ds.insert(0, 'id', ids)\n",
    "\n",
    "ds.head()"
   ]
  },
  {
   "cell_type": "code",
   "execution_count": 166,
   "metadata": {},
   "outputs": [],
   "source": [
    "import datetime\n",
    "\n",
    "PATH_SUBMISSION = '/home/pspenano/Dropbox/data_science/fastai_deeplearning/pt1/fastai_deeplearning_v2_pt1/kaggle_submissions/cats_vs_dogs_redux/'\n",
    "ds.to_csv(PATH_SUBMISSION + 'submission_{}.csv'.format(datetime.date.today()), index=False)"
   ]
  },
  {
   "cell_type": "code",
   "execution_count": null,
   "metadata": {},
   "outputs": [],
   "source": []
  }
 ],
 "metadata": {
  "kernelspec": {
   "display_name": "Python 3",
   "language": "python",
   "name": "python3"
  },
  "language_info": {
   "codemirror_mode": {
    "name": "ipython",
    "version": 3
   },
   "file_extension": ".py",
   "mimetype": "text/x-python",
   "name": "python",
   "nbconvert_exporter": "python",
   "pygments_lexer": "ipython3",
   "version": "3.6.4"
  }
 },
 "nbformat": 4,
 "nbformat_minor": 2
}
